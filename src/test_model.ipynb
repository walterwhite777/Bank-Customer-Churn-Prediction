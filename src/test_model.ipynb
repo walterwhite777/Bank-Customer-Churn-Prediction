{
 "cells": [
  {
   "cell_type": "code",
   "execution_count": 1,
   "id": "cefde9d4",
   "metadata": {},
   "outputs": [],
   "source": [
    "import pandas as pd\n",
    "from model import ModelHandler\n",
    "\n",
    "import warnings\n",
    "warnings.filterwarnings('ignore')"
   ]
  },
  {
   "cell_type": "code",
   "execution_count": 3,
   "id": "8f45a58b",
   "metadata": {},
   "outputs": [
    {
     "name": "stdout",
     "output_type": "stream",
     "text": [
      "Prediction: Stayed\n"
     ]
    }
   ],
   "source": [
    "# Instantiate the model handler\n",
    "model_handler = ModelHandler()\n",
    "\n",
    "# Sample input data\n",
    "sample_data = {\n",
    "    'CreditScore': [600],\n",
    "    'Geography': ['France'],\n",
    "    'Gender': ['Male'],\n",
    "    'Age': [40],\n",
    "    'Tenure': [3],\n",
    "    'Balance': [60000],\n",
    "    'NumOfProducts': [2],\n",
    "    'HasCrCard': [1],\n",
    "    'IsActiveMember': [1],\n",
    "    'EstimatedSalary': [50000],\n",
    "    'Complain': [0],\n",
    "    'Satisfaction Score': [4],\n",
    "    'Card Type': ['Silver'],\n",
    "    'Point Earned': [3000]\n",
    "}\n",
    "\n",
    "# Convert to DataFrame\n",
    "sample_df = pd.DataFrame(sample_data)\n",
    "\n",
    "# Predict\n",
    "result = model_handler.predict(sample_df)\n",
    "\n",
    "# Output prediction\n",
    "print(\"Prediction:\", result)"
   ]
  }
 ],
 "metadata": {
  "kernelspec": {
   "display_name": "base",
   "language": "python",
   "name": "python3"
  },
  "language_info": {
   "codemirror_mode": {
    "name": "ipython",
    "version": 3
   },
   "file_extension": ".py",
   "mimetype": "text/x-python",
   "name": "python",
   "nbconvert_exporter": "python",
   "pygments_lexer": "ipython3",
   "version": "3.11.7"
  }
 },
 "nbformat": 4,
 "nbformat_minor": 5
}
